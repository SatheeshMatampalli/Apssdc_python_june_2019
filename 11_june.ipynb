{
 "cells": [
  {
   "cell_type": "markdown",
   "metadata": {},
   "source": [
    "**MARKDOWN Basics**<br>\n",
    "       * Bold...>** data **<br>\n",
    "       * Italic...> * data *<br>\n",
    "       * bold and italic....>*** data ***<br>\n",
    "       * *space is for moving given formate\n",
    "       * <br> is for break line<br>\n",
    "       \n",
    "       \n",
    "       \n",
    "** order **\n",
    "**give two line  above spaces for starting new order list**\n",
    "        1. element1\n",
    "        2. element2\n",
    "        \n",
    "[jupyter logo](juy.png)<br>**this is for image adding**\n",
    "![jupyter logo](juy.png)<br>**this is for image displaying**\n",
    "\n",
    "\n",
    "- [ ] option1\n",
    "- [ ] option2\n",
    "\n",
    "** for line parlell   \n",
    "> 1. satheesh\n",
    "> 2. rajesh\n",
    "\n",
    "\n"
   ]
  },
  {
   "cell_type": "markdown",
   "metadata": {},
   "source": [
    "# Python Basics......\n",
    "## python version 3.7\n",
    "- scripting language\n"
   ]
  },
  {
   "cell_type": "code",
   "execution_count": 1,
   "metadata": {},
   "outputs": [
    {
     "name": "stdout",
     "output_type": "stream",
     "text": [
      "Hai satheesh\n"
     ]
    }
   ],
   "source": [
    "#comments\n",
    "print(\"Hai satheesh\")"
   ]
  },
  {
   "cell_type": "code",
   "execution_count": 4,
   "metadata": {},
   "outputs": [
    {
     "name": "stdout",
     "output_type": "stream",
     "text": [
      "hai satheesh\n"
     ]
    }
   ],
   "source": [
    "print(\"hai\", end=\" \")\n",
    "print(\"satheesh\")"
   ]
  },
  {
   "cell_type": "code",
   "execution_count": 8,
   "metadata": {},
   "outputs": [
    {
     "name": "stdout",
     "output_type": "stream",
     "text": [
      "1669389145384\n",
      "1669389145216\n"
     ]
    }
   ],
   "source": [
    "a=2.1\n",
    "b=2.1\n",
    "type(a)\n",
    "type(b)\n",
    "print(id(a))\n",
    "print(id(b))"
   ]
  },
  {
   "cell_type": "markdown",
   "metadata": {},
   "source": [
    "## arthimetic\n",
    "- +\n",
    "- -\n",
    "\n"
   ]
  },
  {
   "cell_type": "code",
   "execution_count": 9,
   "metadata": {},
   "outputs": [
    {
     "data": {
      "text/plain": [
       "3"
      ]
     },
     "execution_count": 9,
     "metadata": {},
     "output_type": "execute_result"
    }
   ],
   "source": [
    "n1=333\n",
    "n1%11"
   ]
  },
  {
   "cell_type": "code",
   "execution_count": 14,
   "metadata": {},
   "outputs": [
    {
     "name": "stdout",
     "output_type": "stream",
     "text": [
      "<class 'int'>\n"
     ]
    }
   ],
   "source": [
    "print(type(n1))\n",
    "\n",
    "\n",
    "a=20\n",
    "b=30\n",
    "a=a%2\n",
    "\n"
   ]
  },
  {
   "cell_type": "code",
   "execution_count": 15,
   "metadata": {},
   "outputs": [
    {
     "name": "stdout",
     "output_type": "stream",
     "text": [
      "0\n"
     ]
    }
   ],
   "source": [
    "print(a)"
   ]
  },
  {
   "cell_type": "code",
   "execution_count": 20,
   "metadata": {},
   "outputs": [
    {
     "name": "stdout",
     "output_type": "stream",
     "text": [
      "100000000000000000000\n"
     ]
    }
   ],
   "source": [
    "a=10**20\n",
    "print(a)"
   ]
  },
  {
   "cell_type": "code",
   "execution_count": 19,
   "metadata": {},
   "outputs": [
    {
     "name": "stdout",
     "output_type": "stream",
     "text": [
      "30\n",
      "<class 'int'>\n"
     ]
    }
   ],
   "source": [
    "b**2\n",
    "print(b)\n",
    "print(type(b))"
   ]
  },
  {
   "cell_type": "code",
   "execution_count": 21,
   "metadata": {},
   "outputs": [
    {
     "name": "stdout",
     "output_type": "stream",
     "text": [
      "True\n"
     ]
    }
   ],
   "source": [
    "if 30 < 40:\n",
    "    print(\"True\")\n",
    "else:\n",
    "    print(\"False\")"
   ]
  },
  {
   "cell_type": "code",
   "execution_count": 22,
   "metadata": {},
   "outputs": [
    {
     "name": "stdout",
     "output_type": "stream",
     "text": [
      "odd\n"
     ]
    }
   ],
   "source": [
    "a=111\n",
    "if a%2==0:\n",
    "    print(\"even\")\n",
    "else:\n",
    "    print(\"odd\")\n",
    "    \n",
    "    "
   ]
  },
  {
   "cell_type": "code",
   "execution_count": 1,
   "metadata": {},
   "outputs": [
    {
     "name": "stdout",
     "output_type": "stream",
     "text": [
      "enter n11\n",
      "enter n22\n",
      "enter n33\n",
      "n3 big\n"
     ]
    }
   ],
   "source": [
    "n1=int(input(\"enter n1\"))\n",
    "n2=int(input(\"enter n2\"))\n",
    "n3=int(input(\"enter n3\"))\n",
    "if n1>n2 and n1>n3:\n",
    "    print(\"n1 is great\")\n",
    "elif n2>n2:\n",
    "    print(\"n2 is bigger\")\n",
    "else:\n",
    "    print(\"n3 big\")"
   ]
  },
  {
   "cell_type": "code",
   "execution_count": 2,
   "metadata": {},
   "outputs": [
    {
     "name": "stdout",
     "output_type": "stream",
     "text": [
      "enter n11\n",
      "enter n22\n",
      "enter n33\n",
      "n3 big\n"
     ]
    }
   ],
   "source": [
    "n1=int(input(\"enter n1\"))\n",
    "n2=int(input(\"enter n2\"))\n",
    "n2=int(input(\"enter n3\"))\n",
    "if n1>n2 and n1>n3:\n",
    "    print(\"n1 is great\")\n",
    "elif n2>n2:\n",
    "    print(\"n2 is bigger\")\n",
    "else:\n",
    "    print(\"n3 big\")"
   ]
  },
  {
   "cell_type": "code",
   "execution_count": 9,
   "metadata": {},
   "outputs": [
    {
     "name": "stdout",
     "output_type": "stream",
     "text": [
      "enter year2005\n",
      "not leap\n"
     ]
    }
   ],
   "source": [
    "n=int(input(\"enter year\"))\n",
    "if (n%4==0) or (n%400==0 and n%100!=0):\n",
    "    print(\"it is leap\")\n",
    "else:\n",
    "    print(\"not leap\")"
   ]
  },
  {
   "cell_type": "code",
   "execution_count": 13,
   "metadata": {},
   "outputs": [
    {
     "name": "stdout",
     "output_type": "stream",
     "text": [
      "enter no4\n",
      "enter a1\n",
      "enter b6\n",
      "yes\n"
     ]
    }
   ],
   "source": [
    "n=int(input(\"enter no\"))\n",
    "a=int(input(\"enter a\"))\n",
    "b=int(input(\"enter b\"))\n",
    "if n in range(a,b):\n",
    "    print(\"yes\")\n",
    "else:\n",
    "    print(\"no\")"
   ]
  },
  {
   "cell_type": "code",
   "execution_count": 21,
   "metadata": {},
   "outputs": [
    {
     "name": "stdout",
     "output_type": "stream",
     "text": [
      "enter no2w2\n",
      "2\n"
     ]
    }
   ],
   "source": [
    "#number of digits\n",
    "n=input(\"enter no\")\n",
    "c=0\n",
    "for i in n:\n",
    "    if i.isdigit():\n",
    "        c=c+1\n",
    "print(c)    \n"
   ]
  },
  {
   "cell_type": "code",
   "execution_count": 32,
   "metadata": {},
   "outputs": [
    {
     "name": "stdout",
     "output_type": "stream",
     "text": [
      "enter no10\n",
      "10 * 1 10\n",
      "10 * 2 20\n",
      "10 * 3 30\n",
      "10 * 4 40\n",
      "10 * 5 50\n",
      "10 * 6 60\n",
      "10 * 7 70\n",
      "10 * 8 80\n",
      "10 * 9 90\n",
      "10 * 10 100\n"
     ]
    }
   ],
   "source": [
    "#multiple of 10\n",
    "n=int(input(\"enter no\"))\n",
    "for i in range (1,11):\n",
    "    print(n,\"*\",i,n*i)"
   ]
  },
  {
   "cell_type": "code",
   "execution_count": 37,
   "metadata": {},
   "outputs": [
    {
     "name": "stdout",
     "output_type": "stream",
     "text": [
      "enter no2\n",
      "yes it is factor\n"
     ]
    }
   ],
   "source": [
    "#factor of 1000\n",
    "n=int(input(\"enter no\"))\n",
    "if 1000%n==0:\n",
    "    print(\"yes it is factor\")\n",
    "else:\n",
    "    print(\"not factor\")"
   ]
  },
  {
   "cell_type": "code",
   "execution_count": 40,
   "metadata": {},
   "outputs": [
    {
     "name": "stdout",
     "output_type": "stream",
     "text": [
      "enter no2\n",
      "yes multipl 10\n"
     ]
    }
   ],
   "source": [
    "#multiple of 10\n",
    "n=int(input(\"enter no\"))\n",
    "if 10%n==0:\n",
    "    print(\"yes multipl 10\")\n",
    "else:\n",
    "    print(\"not multiple 10\")"
   ]
  },
  {
   "cell_type": "code",
   "execution_count": 41,
   "metadata": {},
   "outputs": [
    {
     "data": {
      "text/plain": [
       "3.1622776601683795"
      ]
     },
     "execution_count": 41,
     "metadata": {},
     "output_type": "execute_result"
    }
   ],
   "source": [
    "n=10\n",
    "n**0.5"
   ]
  },
  {
   "cell_type": "code",
   "execution_count": 44,
   "metadata": {},
   "outputs": [
    {
     "name": "stdout",
     "output_type": "stream",
     "text": [
      "enter string123\n",
      "enter no123\n",
      "equal string and no\n"
     ]
    }
   ],
   "source": [
    "m=input(\"enter string\")\n",
    "n=int(input(\"enter no\"))\n",
    "if m==str(n):\n",
    "    print(\"equal string and no\")\n",
    "else:\n",
    "    print(\"not equal\")\n",
    "    "
   ]
  },
  {
   "cell_type": "code",
   "execution_count": null,
   "metadata": {},
   "outputs": [],
   "source": []
  },
  {
   "cell_type": "code",
   "execution_count": null,
   "metadata": {},
   "outputs": [],
   "source": []
  }
 ],
 "metadata": {
  "kernelspec": {
   "display_name": "Python 3",
   "language": "python",
   "name": "python3"
  },
  "language_info": {
   "codemirror_mode": {
    "name": "ipython",
    "version": 3
   },
   "file_extension": ".py",
   "mimetype": "text/x-python",
   "name": "python",
   "nbconvert_exporter": "python",
   "pygments_lexer": "ipython3",
   "version": "3.7.3"
  }
 },
 "nbformat": 4,
 "nbformat_minor": 2
}
