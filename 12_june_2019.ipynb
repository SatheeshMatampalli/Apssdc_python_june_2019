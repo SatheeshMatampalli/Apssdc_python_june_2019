{
 "cells": [
  {
   "cell_type": "markdown",
   "metadata": {},
   "source": [
    "# TAsks on functions\n",
    "# prime no\n",
    "# palindrome\n",
    "# amstrong\n",
    "# averages of prime no\n",
    "# leapyears\n",
    "# topic covered loopings and conditional statements.\n"
   ]
  },
  {
   "cell_type": "code",
   "execution_count": 1,
   "metadata": {},
   "outputs": [
    {
     "name": "stdout",
     "output_type": "stream",
     "text": [
      "1 2 3 4 5 6 7 8 9 10 11 12 13 14 15 16 17 18 19 20 "
     ]
    }
   ],
   "source": [
    "# Function to print n natural no's using while loop\n",
    "\n",
    "def nat(x):\n",
    "    counter = 1\n",
    "    while counter <= x:\n",
    "        print(counter, end=\" \")\n",
    "        counter = counter +1\n",
    "    return\n",
    "nat(20)"
   ]
  },
  {
   "cell_type": "code",
   "execution_count": 2,
   "metadata": {},
   "outputs": [
    {
     "name": "stdout",
     "output_type": "stream",
     "text": [
      "1 2 3 4 5 6 7 8 9 10 "
     ]
    }
   ],
   "source": [
    "# Function to print n natural no's\n",
    "\n",
    "def nat(x):\n",
    "    for counter in range(1, x+1):\n",
    "        print(counter, end=\" \")\n",
    "    return\n",
    "nat(10)"
   ]
  },
  {
   "cell_type": "code",
   "execution_count": 3,
   "metadata": {},
   "outputs": [
    {
     "name": "stdout",
     "output_type": "stream",
     "text": [
      "0 is big number\n"
     ]
    }
   ],
   "source": [
    "# Function to Identify the greatest of 3 numbers\n",
    "\n",
    "def grt(x,y,z):\n",
    "    if x>y and x>z:\n",
    "        print(x, \"is big number\")\n",
    "    elif y>z:\n",
    "        print(y, \"is big number\")\n",
    "    else:\n",
    "        print(z, \"is big number\")\n",
    "grt(-1,0,-3)"
   ]
  },
  {
   "cell_type": "code",
   "execution_count": 4,
   "metadata": {},
   "outputs": [
    {
     "name": "stdout",
     "output_type": "stream",
     "text": [
      "enter a number45\n"
     ]
    },
    {
     "data": {
      "text/plain": [
       "2"
      ]
     },
     "execution_count": 4,
     "metadata": {},
     "output_type": "execute_result"
    }
   ],
   "source": [
    "# Function to count the digits in a number\n",
    "\n",
    "def dig(x):\n",
    "    x=int(input(\"enter a number\"))\n",
    "    return len(str(x))\n",
    "\n",
    "dig(\"x\")"
   ]
  },
  {
   "cell_type": "code",
   "execution_count": 5,
   "metadata": {},
   "outputs": [
    {
     "data": {
      "text/plain": [
       "False"
      ]
     },
     "execution_count": 5,
     "metadata": {},
     "output_type": "execute_result"
    }
   ],
   "source": [
    "#leap year\n",
    "def leap(s):\n",
    "    if s%400==0 or (s%100!=0 and s%4==0):\n",
    "        return True\n",
    "    else:\n",
    "        return False\n",
    "leap(1947)"
   ]
  },
  {
   "cell_type": "code",
   "execution_count": 13,
   "metadata": {},
   "outputs": [
    {
     "name": "stdout",
     "output_type": "stream",
     "text": [
      "90 is divi by 6\n",
      "not\n",
      "not\n",
      "not\n",
      "not\n",
      "not\n",
      "96 is divi by 6\n",
      "not\n",
      "not\n",
      "not\n",
      "not\n",
      "not\n",
      "102 is divi by 6\n",
      "not\n",
      "not\n",
      "not\n",
      "not\n",
      "not\n",
      "108 is divi by 6\n",
      "not\n",
      "not\n",
      "not\n",
      "not\n",
      "not\n",
      "114 is divi by 6\n",
      "not\n",
      "not\n",
      "not\n",
      "not\n",
      "not\n"
     ]
    }
   ],
   "source": [
    "#print using function print num div by6 \n",
    "#and not a factor of 100 in given range\n",
    "def printnum(a,b):\n",
    "    for i in range(a,b):\n",
    "        if i%6==0 and 100%i!=0:\n",
    "            print(i,\"is divi by 6\")\n",
    "        else:\n",
    "            print(\"not\")\n",
    "printnum(90,120)\n",
    "\n",
    "\n",
    "\n",
    "\n"
   ]
  },
  {
   "cell_type": "code",
   "execution_count": 17,
   "metadata": {},
   "outputs": [
    {
     "name": "stdout",
     "output_type": "stream",
     "text": [
      "36.0\n"
     ]
    }
   ],
   "source": [
    "#cubes avg of even no\n",
    "def avgn(a,b):\n",
    "    d=0\n",
    "    sum=0\n",
    "    for i in range(a,b):\n",
    "        if i%2==0:\n",
    "            c=i**3\n",
    "            d=d+1\n",
    "            sum=sum+c\n",
    "    avg=sum/d\n",
    "    print(avg)\n",
    "avgn(2,5)\n",
    "    \n",
    "            "
   ]
  },
  {
   "cell_type": "code",
   "execution_count": 26,
   "metadata": {},
   "outputs": [
    {
     "name": "stdout",
     "output_type": "stream",
     "text": [
      "1\n",
      "2\n",
      "6\n",
      "24\n",
      "120\n"
     ]
    }
   ],
   "source": [
    "#calculate factorial of given no\n",
    "def factorial(n):\n",
    "    fact=1\n",
    "    for i in range(1,n+1):\n",
    "        fact=fact*i\n",
    "        print(fact)  \n",
    "factorial(5)"
   ]
  },
  {
   "cell_type": "code",
   "execution_count": 31,
   "metadata": {},
   "outputs": [
    {
     "name": "stdout",
     "output_type": "stream",
     "text": [
      "Enter num: 13\n"
     ]
    },
    {
     "data": {
      "text/plain": [
       "2"
      ]
     },
     "execution_count": 31,
     "metadata": {},
     "output_type": "execute_result"
    }
   ],
   "source": [
    "#function to generate list of factors for given no\n",
    "#12-->1,2,3,4,6,12\n",
    "n=int(input(\"Enter num: \"))\n",
    "def fact(n):\n",
    "    count=0\n",
    "    for i in range(1,n+1):\n",
    "        if n%i==0:\n",
    "            count+=1\n",
    "            #print(\"factors\",i)\n",
    "    return count\n",
    "fact(n)\n",
    "\n"
   ]
  },
  {
   "cell_type": "code",
   "execution_count": 41,
   "metadata": {},
   "outputs": [
    {
     "data": {
      "text/plain": [
       "'Prime'"
      ]
     },
     "execution_count": 41,
     "metadata": {},
     "output_type": "execute_result"
    }
   ],
   "source": [
    "#if number is prime\n",
    "def prim(n):\n",
    "    def fact(a):\n",
    "        count=0\n",
    "        for i in range(1,a+1):\n",
    "            if n%i==0:\n",
    "                count=count+1\n",
    "        return count\n",
    "    x=fact(n)\n",
    "    if x == 2:\n",
    "        return \"Prime\"\n",
    "    else:\n",
    "        return \"NotPrime\"\n",
    "        \n",
    "prim(19)            \n"
   ]
  },
  {
   "cell_type": "code",
   "execution_count": 57,
   "metadata": {},
   "outputs": [
    {
     "data": {
      "text/plain": [
       "False"
      ]
     },
     "execution_count": 57,
     "metadata": {},
     "output_type": "execute_result"
    }
   ],
   "source": [
    "#prime\n",
    "def prime(n):\n",
    "    flag=True\n",
    "    for i in range(2,n//2+1):\n",
    "        if n%i==0:\n",
    "            flag=False\n",
    "            return flag\n",
    "    return flag\n",
    "prime(4)\n",
    "        \n",
    "        "
   ]
  },
  {
   "cell_type": "code",
   "execution_count": 10,
   "metadata": {},
   "outputs": [
    {
     "name": "stdout",
     "output_type": "stream",
     "text": [
      "1\n",
      "23\n",
      "prime\n"
     ]
    }
   ],
   "source": [
    "#prime\n",
    "def prime(n):\n",
    "    count=0\n",
    "    for i in range(1,n+1):\n",
    "        if n%i==0:\n",
    "            count=count+1\n",
    "            print(i)\n",
    "        \n",
    "    if count>2:\n",
    "        print(\"not prime\")\n",
    "    else:\n",
    "        print(\"prime\")\n",
    "prime(23)\n",
    "    "
   ]
  },
  {
   "cell_type": "code",
   "execution_count": 13,
   "metadata": {},
   "outputs": [
    {
     "name": "stdout",
     "output_type": "stream",
     "text": [
      "not prime\n"
     ]
    }
   ],
   "source": [
    "#sum prime\n",
    "def prime(n,n1):\n",
    "    count=0\n",
    "    sums=0\n",
    "    for j in range(n,n1+1):\n",
    "        for i in range(1,j+1):\n",
    "            if j%i==0:\n",
    "                count=count+1\n",
    "                #sums=sums+i\n",
    "    #print(sums)    \n",
    "    if count>2:\n",
    "        print(\"not prime\")\n",
    "    else:\n",
    "        print(j)\n",
    "        print(\"prime\")\n",
    "prime(2,22)\n",
    "    "
   ]
  },
  {
   "cell_type": "code",
   "execution_count": 27,
   "metadata": {},
   "outputs": [
    {
     "name": "stdout",
     "output_type": "stream",
     "text": [
      "500\n",
      "502\n",
      "504\n",
      "506\n",
      "508\n",
      "510\n",
      "512\n",
      "514\n",
      "516\n",
      "518\n",
      "520\n",
      "522\n",
      "524\n",
      "526\n",
      "528\n",
      "530\n",
      "532\n",
      "534\n",
      "536\n",
      "538\n",
      "540\n",
      "542\n",
      "544\n",
      "546\n",
      "548\n",
      "550\n",
      "500\n",
      "502\n",
      "504\n",
      "506\n",
      "508\n",
      "510\n",
      "512\n",
      "514\n",
      "516\n",
      "518\n",
      "520\n",
      "522\n",
      "524\n",
      "526\n",
      "528\n",
      "530\n",
      "532\n",
      "534\n",
      "536\n",
      "538\n",
      "540\n",
      "542\n",
      "544\n",
      "546\n",
      "548\n"
     ]
    }
   ],
   "source": [
    "#print alternate values from range\n",
    "#[500,550]\n",
    "#(500,550)\n",
    "def alternate(a,b):\n",
    "    z=[]\n",
    "    for i in range(a,b+1,2):\n",
    "        print(i)\n",
    "alternate(500,550)\n",
    "def alternate(a,b):\n",
    "    z=[]\n",
    "    for i in range(a,b,2):\n",
    "        print(i)\n",
    "alternate(500,550)"
   ]
  },
  {
   "cell_type": "code",
   "execution_count": null,
   "metadata": {},
   "outputs": [],
   "source": []
  },
  {
   "cell_type": "code",
   "execution_count": null,
   "metadata": {},
   "outputs": [],
   "source": []
  },
  {
   "cell_type": "code",
   "execution_count": 34,
   "metadata": {},
   "outputs": [
    {
     "name": "stdout",
     "output_type": "stream",
     "text": [
      "10\n",
      "9\n",
      "8\n",
      "7\n",
      "6\n",
      "5\n",
      "4\n",
      "3\n",
      "2\n"
     ]
    }
   ],
   "source": [
    "#print the reverseof range \n",
    "def revrange(a,b):\n",
    "    for i in range(b,a,-1):\n",
    "        print(i)\n",
    "revrange(1,10)"
   ]
  },
  {
   "cell_type": "code",
   "execution_count": 35,
   "metadata": {},
   "outputs": [
    {
     "name": "stdout",
     "output_type": "stream",
     "text": [
      "9\n",
      "7\n",
      "5\n",
      "3\n"
     ]
    }
   ],
   "source": [
    "#pritn odd no reverse in range\n",
    "def oddrever(a,b):\n",
    "    for i in range(b,a,-1):\n",
    "        if i%2!=0:\n",
    "            print(i)\n",
    "oddrever(1,10)\n",
    "            \n",
    "            \n",
    "            \n",
    "            \n",
    "            \n",
    "            "
   ]
  },
  {
   "cell_type": "code",
   "execution_count": 37,
   "metadata": {},
   "outputs": [
    {
     "data": {
      "text/plain": [
       "6"
      ]
     },
     "execution_count": 37,
     "metadata": {},
     "output_type": "execute_result"
    }
   ],
   "source": [
    "#pritn sun of range\n",
    "def sumrange(a,b):\n",
    "    sums=0\n",
    "    for i in range(a,b):\n",
    "        sums=sums+i\n",
    "    return sums\n",
    "sumrange(1,4)\n",
    "    \n",
    "    "
   ]
  },
  {
   "cell_type": "code",
   "execution_count": 42,
   "metadata": {},
   "outputs": [
    {
     "data": {
      "text/plain": [
       "3"
      ]
     },
     "execution_count": 42,
     "metadata": {},
     "output_type": "execute_result"
    }
   ],
   "source": [
    "#print avg of range\n",
    "def sumrange(a,b):\n",
    "    sums=0\n",
    "    avg=0\n",
    "    c=0\n",
    "    for i in range(a,b+1):\n",
    "        sums=sums+i\n",
    "        c=c+1\n",
    "    return sums//c\n",
    "sumrange(1,5)\n",
    "  \n"
   ]
  },
  {
   "cell_type": "code",
   "execution_count": 47,
   "metadata": {},
   "outputs": [
    {
     "data": {
      "text/plain": [
       "True"
      ]
     },
     "execution_count": 47,
     "metadata": {},
     "output_type": "execute_result"
    }
   ],
   "source": [
    "#amstrong no\n",
    "def amstrong(n):\n",
    "    n=str(n)\n",
    "    s=0\n",
    "    for i in n:\n",
    "        i=int(i)\n",
    "        s=s+i**3\n",
    "    if s==int(n):\n",
    "        return True\n",
    "    else:\n",
    "        return False\n",
    "amstrong(371)"
   ]
  },
  {
   "cell_type": "code",
   "execution_count": 54,
   "metadata": {},
   "outputs": [
    {
     "name": "stdout",
     "output_type": "stream",
     "text": [
      "153\n",
      "371\n"
     ]
    }
   ],
   "source": [
    "#odd amstrong nos\n",
    "def oddamstrng(a,b):\n",
    "    for i in range(a,b):\n",
    "        if amstrong(i)==True and i%2!=0:\n",
    "            print(i)\n",
    "oddamstrng(100,377)"
   ]
  },
  {
   "cell_type": "code",
   "execution_count": 63,
   "metadata": {},
   "outputs": [
    {
     "name": "stdout",
     "output_type": "stream",
     "text": [
      "1\n",
      "2\n",
      "6\n",
      "24\n",
      "120\n"
     ]
    },
    {
     "data": {
      "text/plain": [
       "30.6"
      ]
     },
     "execution_count": 63,
     "metadata": {},
     "output_type": "execute_result"
    }
   ],
   "source": [
    "# avg of factorial\n",
    "def avgfact(a,b):\n",
    "    fact=1\n",
    "    sums=0\n",
    "    c=0\n",
    "    for i in range(a,b+1):\n",
    "        fact=fact*i\n",
    "        c=c+1\n",
    "        sums=sums+fact\n",
    "        print(fact)\n",
    "    return sums/c\n",
    "avgfact(1,5)"
   ]
  },
  {
   "cell_type": "code",
   "execution_count": 57,
   "metadata": {},
   "outputs": [
    {
     "name": "stdout",
     "output_type": "stream",
     "text": [
      "10 * 100 = 1000\n",
      "10 * 100 = 1010\n",
      "10 * 100 = 1020\n"
     ]
    }
   ],
   "source": [
    "#print tables in range\n",
    "def tablerange(a,b,n):\n",
    "    for i in range(a,b+1):\n",
    "        print(n,\"*\",a,\"=\",n*i)\n",
    "tablerange(100,102,10)"
   ]
  },
  {
   "cell_type": "code",
   "execution_count": 78,
   "metadata": {},
   "outputs": [
    {
     "name": "stdout",
     "output_type": "stream",
     "text": [
      "1920\n",
      "1924\n",
      "1928\n",
      "1932\n",
      "1936\n",
      "1940\n",
      "1944\n",
      "1948\n",
      "1952\n",
      "1956\n",
      "1960\n",
      "1964\n",
      "1968\n",
      "1972\n",
      "1976\n",
      "1980\n",
      "1984\n",
      "1988\n",
      "1992\n",
      "1996\n",
      "2000\n",
      "2004\n",
      "2008\n",
      "2012\n",
      "2016\n"
     ]
    }
   ],
   "source": [
    "#print leap year in range\n",
    "def leapyear(a,b):\n",
    "    for i in range(a,b):\n",
    "        if (i%400==0) or (i%4==0 and i%100!=0):\n",
    "            print(i)\n",
    "leapyear(1919,2018)"
   ]
  },
  {
   "cell_type": "code",
   "execution_count": 81,
   "metadata": {},
   "outputs": [
    {
     "name": "stdout",
     "output_type": "stream",
     "text": [
      "2018 the days is 365\n",
      "2019 the days is 365\n",
      "no of days leap years totoal is 0\n",
      "no of days not leap years totoal is 730\n"
     ]
    }
   ],
   "source": [
    "#calaulate days in given time period\n",
    "def dayscount(a,b):\n",
    "    daysleap=0\n",
    "    daysnotleap=0\n",
    "    for i in range(a,b+1):\n",
    "        if i%400==0 or (i%4==0 and i%100!=0):\n",
    "            daysleap=daysleap+366\n",
    "            print(i,\"the days count is 366 \")\n",
    "        else:\n",
    "            daysnotleap=daysnotleap+365\n",
    "            print(i,\"the days is 365\")\n",
    "    print(\"no of days leap years totoal is\",daysleap)\n",
    "    print(\"no of days not leap years totoal is\",daysnotleap)\n",
    "    \n",
    "dayscount(2018,2019)"
   ]
  },
  {
   "cell_type": "code",
   "execution_count": 3,
   "metadata": {},
   "outputs": [
    {
     "name": "stdout",
     "output_type": "stream",
     "text": [
      "not perfect no\n"
     ]
    }
   ],
   "source": [
    "#perfect no\n",
    "def perfect(n):\n",
    "    sums=0\n",
    "    a=str(n)\n",
    "    for i in a:\n",
    "        b=int(i)\n",
    "        sums=sums+b\n",
    "    if sums==int(n):\n",
    "        print(\"it is perfect no\")\n",
    "    else:\n",
    "        print(\"not perfect no\")\n",
    "perfect(10)"
   ]
  },
  {
   "cell_type": "code",
   "execution_count": 101,
   "metadata": {},
   "outputs": [
    {
     "name": "stdout",
     "output_type": "stream",
     "text": [
      "8760\n",
      "2019 the days is 365\n"
     ]
    }
   ],
   "source": [
    "#function to calculate number of hours for given period \n",
    "#(11,1975,3,1999)\n",
    "def hourscount(m1,y1,m2,y2):\n",
    "    daysleap=0\n",
    "    daysnotleap=0\n",
    "    h=0\n",
    "    h1=0\n",
    "    for i in range(y1,y2+1):\n",
    "        if i%400==0 or (i%4==0 and i%100!=0):\n",
    "            daysleap=daysleap+366\n",
    "            h=daysleap*24\n",
    "            print(h)\n",
    "            print(i,\"the days count is 366 \")\n",
    "        else:\n",
    "            daysnotleap=daysnotleap+365\n",
    "            h1=daysnotleap*24\n",
    "            print(h1)\n",
    "            print(i,\"the days is 365\")\n",
    "   # print(\"total leap year hrs\",totalh)\n",
    "   # print(\"total notleap year hrs\",totalh1)\n",
    "hourscount(3,2019,3,2019)\n",
    "            "
   ]
  },
  {
   "cell_type": "code",
   "execution_count": 3,
   "metadata": {},
   "outputs": [
    {
     "data": {
      "text/plain": [
       "True"
      ]
     },
     "execution_count": 3,
     "metadata": {},
     "output_type": "execute_result"
    }
   ],
   "source": [
    "#IS LEAP\n",
    "def isleapyear(year):\n",
    "    if year%400==0 or (year%4==0 and year%100!=0):\n",
    "        return True\n",
    "    return False\n",
    "isleapyear(2000)\n",
    "        "
   ]
  },
  {
   "cell_type": "code",
   "execution_count": null,
   "metadata": {},
   "outputs": [],
   "source": [
    "def monthdays(month,year):\n",
    "    if month==2:\n",
    "        if isleapyear(year):\n",
    "            return 29\n",
    "        return 28\n",
    "    elif (month<=7 and month%2!=0)or (month!=2)//month:\n",
    "        return 31\n",
    "    else:\n",
    "        return 30\n",
    "    "
   ]
  }
 ],
 "metadata": {
  "kernelspec": {
   "display_name": "Python 3",
   "language": "python",
   "name": "python3"
  },
  "language_info": {
   "codemirror_mode": {
    "name": "ipython",
    "version": 3
   },
   "file_extension": ".py",
   "mimetype": "text/x-python",
   "name": "python",
   "nbconvert_exporter": "python",
   "pygments_lexer": "ipython3",
   "version": "3.7.3"
  }
 },
 "nbformat": 4,
 "nbformat_minor": 2
}
