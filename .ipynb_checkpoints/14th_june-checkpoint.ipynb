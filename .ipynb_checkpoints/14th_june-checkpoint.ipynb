{
 "cells": [
  {
   "cell_type": "markdown",
   "metadata": {},
   "source": [
    "# Python DataStructures\n",
    "* Lists <br>\n",
    "* Tuples <br>\n",
    "* Dictionaries<br>\n",
    "### Basic problem set on Datastructures\n",
    "### Advanced problems set\n",
    "### packages and modules in python\n"
   ]
  },
  {
   "cell_type": "code",
   "execution_count": 16,
   "metadata": {},
   "outputs": [
    {
     "data": {
      "text/plain": [
       "[1, 123, 333, 1, 2, 3, [100, 200], 2, 2, 2, 2]"
      ]
     },
     "execution_count": 16,
     "metadata": {},
     "output_type": "execute_result"
    }
   ],
   "source": [
    "# list\n",
    "li=[123,978,333]\n",
    "li\n",
    "li[1]\n",
    "li[1:]\n",
    "li\n",
    "li.append(33)#append\n",
    "li\n",
    "li.insert(0,1)#insert\n",
    "li\n",
    "li.sort()#sorting\n",
    "li\n",
    "li.pop()#poping element\n",
    "li\n",
    "li.pop(1)\n",
    "li\n",
    "l2=[1,2,3]\n",
    "li.extend(l2)#extend\n",
    "li\n",
    "li.append([100,200])\n",
    "li\n",
    "li.extend([2,2,2,2])\n",
    "li\n"
   ]
  },
  {
   "cell_type": "code",
   "execution_count": 19,
   "metadata": {},
   "outputs": [
    {
     "data": {
      "text/plain": [
       "6"
      ]
     },
     "execution_count": 19,
     "metadata": {},
     "output_type": "execute_result"
    }
   ],
   "source": [
    "l1=[1,2,4,3,55,33]\n",
    "sum(l1)\n",
    "max(l1)\n",
    "min(l1)\n",
    "len(l1)"
   ]
  },
  {
   "cell_type": "code",
   "execution_count": 21,
   "metadata": {},
   "outputs": [
    {
     "name": "stdout",
     "output_type": "stream",
     "text": [
      "enter no1\n",
      "enter no2\n",
      "enter no3\n",
      "enter no4\n",
      "enter no5\n",
      "3\n"
     ]
    }
   ],
   "source": [
    "# avarage of elements\n",
    "l=[]\n",
    "for i in range(5):\n",
    "    a=int(input(\"enter no\"))\n",
    "    l.append(a)\n",
    "s=sum(l)\n",
    "avg=s//len(l)\n",
    "print(avg)    "
   ]
  },
  {
   "cell_type": "code",
   "execution_count": 28,
   "metadata": {},
   "outputs": [
    {
     "name": "stdout",
     "output_type": "stream",
     "text": [
      "enter no1\n",
      "enter no2\n",
      "enter no3\n",
      "enter no4\n",
      "enter no5\n",
      "4.5\n"
     ]
    }
   ],
   "source": [
    "# average of all alternate no\n",
    "l=[]\n",
    "aa=[]\n",
    "for i in range(5):\n",
    "    a=int(input(\"enter no\"))\n",
    "    l.append(a)\n",
    "b=sum(l[::2])/len(l[1::2])\n",
    "print(b)\n",
    "    "
   ]
  },
  {
   "cell_type": "code",
   "execution_count": 42,
   "metadata": {},
   "outputs": [
    {
     "name": "stdout",
     "output_type": "stream",
     "text": [
      "3\n"
     ]
    }
   ],
   "source": [
    "#second largest no\n",
    "#    sort the data and select largest no\n",
    "#    sort the data in reverse order and select \n",
    "#     remove max value and print last no\n",
    "def secondlargest(li):\n",
    "    li.sort()\n",
    "    print( len(li)-1 )\n",
    "secondlargest([100,1,3,2])\n",
    "        "
   ]
  },
  {
   "cell_type": "code",
   "execution_count": 49,
   "metadata": {},
   "outputs": [
    {
     "name": "stdout",
     "output_type": "stream",
     "text": [
      "2\n"
     ]
    }
   ],
   "source": [
    "#generical largest no\n",
    "def genericallargest(li,n):\n",
    "    li.sort(reverse=True)\n",
    "    print(li[n-1])\n",
    "genericallargest([1,100,3,33,2,4],5)"
   ]
  },
  {
   "cell_type": "code",
   "execution_count": 45,
   "metadata": {},
   "outputs": [
    {
     "data": {
      "text/plain": [
       "[1, 123, 333, 1, 2, 3, [100, 200], 2, 2, 2, 2]"
      ]
     },
     "execution_count": 45,
     "metadata": {},
     "output_type": "execute_result"
    }
   ],
   "source": [
    "li"
   ]
  },
  {
   "cell_type": "code",
   "execution_count": 50,
   "metadata": {},
   "outputs": [
    {
     "data": {
      "text/plain": [
       "[1, 2, 3, 55, 44, 33, 22]"
      ]
     },
     "execution_count": 50,
     "metadata": {},
     "output_type": "execute_result"
    }
   ],
   "source": [
    "li=[1,2,3,55,44,33,22]\n",
    "li"
   ]
  },
  {
   "cell_type": "code",
   "execution_count": 51,
   "metadata": {},
   "outputs": [
    {
     "data": {
      "text/plain": [
       "[1, 2, 3, 55, 44, 33, 22]"
      ]
     },
     "execution_count": 51,
     "metadata": {},
     "output_type": "execute_result"
    }
   ],
   "source": [
    "li"
   ]
  },
  {
   "cell_type": "code",
   "execution_count": 11,
   "metadata": {},
   "outputs": [
    {
     "name": "stdout",
     "output_type": "stream",
     "text": [
      "not in key\n",
      "not in key\n",
      "not in key\n",
      "3\n",
      "not in key\n",
      "not in key\n",
      "not in key\n"
     ]
    }
   ],
   "source": [
    "#search data in list\n",
    "#search key in tbe list and return index valyue\n",
    "def linearsearch(li,key):\n",
    "    for i in range(0,len(li)):\n",
    "        if key==li[i]:\n",
    "            print(li.index(key))\n",
    "        else:\n",
    "            print(\"not in key\")\n",
    "linearsearch(li,55)\n",
    "\n",
    "#def linear2([1,44,55],key):\n",
    "    "
   ]
  },
  {
   "cell_type": "code",
   "execution_count": 8,
   "metadata": {},
   "outputs": [],
   "source": [
    "li=[1, 2, 3, 55, 44, 33, 22]"
   ]
  },
  {
   "cell_type": "code",
   "execution_count": 68,
   "metadata": {},
   "outputs": [
    {
     "name": "stdout",
     "output_type": "stream",
     "text": [
      "enter no55\n"
     ]
    },
    {
     "data": {
      "text/plain": [
       "3"
      ]
     },
     "execution_count": 68,
     "metadata": {},
     "output_type": "execute_result"
    }
   ],
   "source": [
    "def \n",
    "n=int(input(\"enter no\"))\n",
    "li.index(n)"
   ]
  },
  {
   "cell_type": "code",
   "execution_count": 15,
   "metadata": {},
   "outputs": [
    {
     "name": "stdout",
     "output_type": "stream",
     "text": [
      "2\n"
     ]
    }
   ],
   "source": [
    "#count the string perticular string\n",
    "def countletter(s,c):\n",
    "    count=0\n",
    "    for i in s:\n",
    "        if i==\"e\":\n",
    "            count=count+1\n",
    "    return count\n",
    "countletter(\"satheesh\",\"e\")\n",
    "def countletter(s,c):\n",
    "    ss=s.count(c)\n",
    "    print(ss)\n",
    "countletter(\"satheesh\",\"e\")"
   ]
  },
  {
   "cell_type": "code",
   "execution_count": 18,
   "metadata": {},
   "outputs": [
    {
     "data": {
      "text/plain": [
       "3"
      ]
     },
     "execution_count": 18,
     "metadata": {},
     "output_type": "execute_result"
    }
   ],
   "source": [
    "#function to find the number pf occurances of string in string\n",
    "#\"abcdab\"...\"ab\"..>2\n",
    "def substring(s,s1):\n",
    "    c=0\n",
    "    sub=len(s1)\n",
    "    for i in range(len(s)):\n",
    "        if s[i:i+sub]==s1:\n",
    "            c=c+1\n",
    "    return c\n",
    "substring(\"aabbaabbaa\",\"aa\")"
   ]
  },
  {
   "cell_type": "code",
   "execution_count": 19,
   "metadata": {},
   "outputs": [
    {
     "name": "stdout",
     "output_type": "stream",
     "text": [
      "[1, 2, 3, 4, 5]\n"
     ]
    }
   ],
   "source": [
    "s=\"1 2 3 4 5\"\n",
    "li=s.split()\n",
    "nlist=[]\n",
    "for i in li:\n",
    "    nlist.append(int(i))\n",
    "print(nlist)    "
   ]
  },
  {
   "cell_type": "code",
   "execution_count": 4,
   "metadata": {},
   "outputs": [
    {
     "ename": "IndexError",
     "evalue": "list index out of range",
     "output_type": "error",
     "traceback": [
      "\u001b[1;31m---------------------------------------------------------------------------\u001b[0m",
      "\u001b[1;31mIndexError\u001b[0m                                Traceback (most recent call last)",
      "\u001b[1;32m<ipython-input-4-2e4232c5f163>\u001b[0m in \u001b[0;36m<module>\u001b[1;34m\u001b[0m\n\u001b[0;32m     12\u001b[0m \u001b[0mposlist\u001b[0m\u001b[1;33m.\u001b[0m\u001b[0msort\u001b[0m\u001b[1;33m(\u001b[0m\u001b[1;33m)\u001b[0m\u001b[1;33m\u001b[0m\u001b[1;33m\u001b[0m\u001b[0m\n\u001b[0;32m     13\u001b[0m \u001b[1;32mif\u001b[0m \u001b[0mposlist\u001b[0m\u001b[1;33m[\u001b[0m\u001b[1;36m0\u001b[0m\u001b[1;33m]\u001b[0m \u001b[1;32min\u001b[0m \u001b[0mli\u001b[0m\u001b[1;33m:\u001b[0m\u001b[1;33m\u001b[0m\u001b[1;33m\u001b[0m\u001b[0m\n\u001b[1;32m---> 14\u001b[1;33m     \u001b[0mprint\u001b[0m\u001b[1;33m(\u001b[0m\u001b[0mposlist\u001b[0m\u001b[1;33m[\u001b[0m\u001b[0mlen\u001b[0m\u001b[1;33m(\u001b[0m\u001b[0mli\u001b[0m\u001b[1;33m)\u001b[0m\u001b[1;33m]\u001b[0m\u001b[1;33m)\u001b[0m\u001b[1;33m\u001b[0m\u001b[1;33m\u001b[0m\u001b[0m\n\u001b[0m\u001b[0;32m     15\u001b[0m \u001b[1;32melse\u001b[0m\u001b[1;33m:\u001b[0m\u001b[1;33m\u001b[0m\u001b[1;33m\u001b[0m\u001b[0m\n\u001b[0;32m     16\u001b[0m     \u001b[0mprint\u001b[0m\u001b[1;33m(\u001b[0m\u001b[1;33m-\u001b[0m\u001b[0mposlist\u001b[0m\u001b[1;33m[\u001b[0m\u001b[1;36m0\u001b[0m\u001b[1;33m]\u001b[0m\u001b[1;33m)\u001b[0m\u001b[1;33m\u001b[0m\u001b[1;33m\u001b[0m\u001b[0m\n",
      "\u001b[1;31mIndexError\u001b[0m: list index out of range"
     ]
    }
   ],
   "source": [
    "#near zero value\n",
    "#Explaination\n",
    "#li[-1,-2,-3,3,2]\n",
    "#sort[-3,-2,-1,2,3]\n",
    "#positive convert list(1,2,2,3,3)\n",
    "\n",
    "li=[-1,1,-2,2,3]\n",
    "li.sort()\n",
    "poslist=[]\n",
    "for i in li:\n",
    "    poslist.append(abs(i))\n",
    "poslist.sort()\n",
    "if poslist[0] in li:\n",
    "    print(poslist[0])\n",
    "else:\n",
    "    print(-poslist[0])\n",
    "\n",
    "#n=int(input())\n",
    "#s=input()\n",
    "#s=s.split()\n",
    "#l=[]\n",
    "\n",
    "#for i in s:\n",
    "#    l.append(int(i))\n",
    "#print(l)\n",
    "#def closestzero(li):\n",
    "#    a=[]\n",
    "#    for i in li:\n",
    "#       if li[i]<0:\n",
    "#           a.append(li[i])\n",
    "#        print\n",
    "            "
   ]
  },
  {
   "cell_type": "code",
   "execution_count": null,
   "metadata": {},
   "outputs": [],
   "source": []
  },
  {
   "cell_type": "code",
   "execution_count": null,
   "metadata": {},
   "outputs": [],
   "source": []
  },
  {
   "cell_type": "code",
   "execution_count": null,
   "metadata": {},
   "outputs": [],
   "source": []
  }
 ],
 "metadata": {
  "kernelspec": {
   "display_name": "Python 3",
   "language": "python",
   "name": "python3"
  },
  "language_info": {
   "codemirror_mode": {
    "name": "ipython",
    "version": 3
   },
   "file_extension": ".py",
   "mimetype": "text/x-python",
   "name": "python",
   "nbconvert_exporter": "python",
   "pygments_lexer": "ipython3",
   "version": "3.7.3"
  }
 },
 "nbformat": 4,
 "nbformat_minor": 2
}
