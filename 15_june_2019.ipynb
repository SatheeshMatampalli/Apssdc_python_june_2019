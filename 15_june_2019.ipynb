{
 "cells": [
  {
   "cell_type": "code",
   "execution_count": 1,
   "metadata": {},
   "outputs": [
    {
     "name": "stdout",
     "output_type": "stream",
     "text": [
      "2\n"
     ]
    }
   ],
   "source": [
    "size=int(input())\n"
   ]
  },
  {
   "cell_type": "code",
   "execution_count": 4,
   "metadata": {},
   "outputs": [
    {
     "name": "stdout",
     "output_type": "stream",
     "text": [
      "10\n"
     ]
    }
   ],
   "source": [
    "#count divisions\n",
    "def countdiv(i,j,k):\n",
    "    count=0\n",
    "    for a in range(i,j+1):\n",
    "        if a%k==0:\n",
    "            count=count+1\n",
    "    print(count)\n",
    "countdiv(1,10,1)"
   ]
  },
  {
   "cell_type": "code",
   "execution_count": 5,
   "metadata": {},
   "outputs": [
    {
     "name": "stdout",
     "output_type": "stream",
     "text": [
      "1\n",
      "10\n",
      "1\n",
      "[1, 10, 1]\n"
     ]
    }
   ],
   "source": [
    "def counts():\n",
    "    l=[]  \n",
    "    for i in range(0,3):\n",
    "        a=int(input())\n",
    "        l.append(a)\n",
    "    print(l)\n",
    "counts()\n",
    "    \n",
    "    "
   ]
  },
  {
   "cell_type": "code",
   "execution_count": 7,
   "metadata": {},
   "outputs": [
    {
     "name": "stdout",
     "output_type": "stream",
     "text": [
      "1 10 1\n",
      "10\n"
     ]
    }
   ],
   "source": [
    "#count divisiors\n",
    "def countdiv(i,j,k):\n",
    "    count=0\n",
    "    for a in range(i,j+1):\n",
    "        if a%k==0:\n",
    "            count=count+1\n",
    "    print(count)\n",
    "st=input()\n",
    "st=st.split()\n",
    "i=int(st[0])\n",
    "j=int(st[1])\n",
    "k=int(st[2])\n",
    "countdiv(i,j,k)\n",
    "    "
   ]
  },
  {
   "cell_type": "code",
   "execution_count": 15,
   "metadata": {},
   "outputs": [
    {
     "name": "stdout",
     "output_type": "stream",
     "text": [
      "['s', 'a', 's']\n",
      "false\n"
     ]
    }
   ],
   "source": [
    "#polindrome string\n",
    "def polin(s):\n",
    "    a=[]\n",
    "    for i in s:\n",
    "        a.append(i)\n",
    "    a.reverse()\n",
    "    print(a)\n",
    "    if s==a:\n",
    "        print(\"yes\")\n",
    "    else:\n",
    "        print(\"false\")\n",
    "polin(\"sas\")"
   ]
  },
  {
   "cell_type": "code",
   "execution_count": 17,
   "metadata": {},
   "outputs": [
    {
     "data": {
      "text/plain": [
       "\"['s', 'a']\""
      ]
     },
     "execution_count": 17,
     "metadata": {},
     "output_type": "execute_result"
    }
   ],
   "source": [
    "a=['s','a']\n",
    "b=str(a)\n",
    "b"
   ]
  },
  {
   "cell_type": "code",
   "execution_count": 18,
   "metadata": {},
   "outputs": [
    {
     "name": "stdout",
     "output_type": "stream",
     "text": [
      "aba\n",
      "YES\n"
     ]
    }
   ],
   "source": [
    "def polin(s):\n",
    "    if s==s[::-1]:\n",
    "        print(\"YES\")\n",
    "    else:\n",
    "        print(\"NO\")\n",
    "s=input()\n",
    "polin(s)"
   ]
  },
  {
   "cell_type": "code",
   "execution_count": 30,
   "metadata": {},
   "outputs": [
    {
     "name": "stdout",
     "output_type": "stream",
     "text": [
      "SaTH"
     ]
    }
   ],
   "source": [
    "#toggle string\n",
    "def toggl(s):\n",
    "    for i in s:\n",
    "        if i==i.lower():\n",
    "            a=i.upper()\n",
    "            print(a,end=\"\")\n",
    "        elif i==i.upper():\n",
    "            a=i.lower()\n",
    "            print(a,end=\"\")\n",
    "            \n",
    "s=\"sAth\"\n",
    "toggl(s)          "
   ]
  },
  {
   "cell_type": "code",
   "execution_count": 36,
   "metadata": {},
   "outputs": [
    {
     "name": "stdout",
     "output_type": "stream",
     "text": [
      "enter s1sa\n",
      "enter s2sa\n",
      "sasaenter s1qq\n",
      "enter s2ww\n",
      "qqww"
     ]
    }
   ],
   "source": [
    "def st(n):\n",
    "    for i in range(0,n):\n",
    "        s1=input(\"enter s1\")\n",
    "        s2=input(\"enter s2\")\n",
    "        for l1 in s1:\n",
    "            for l2 in s2:\n",
    "                print(l2,end=\"\")\n",
    "        \n",
    "st(2)\n",
    "\n",
    "2 3 5 7 11 17 "
   ]
  },
  {
   "cell_type": "code",
   "execution_count": 18,
   "metadata": {},
   "outputs": [
    {
     "name": "stdout",
     "output_type": "stream",
     "text": [
      "2\n",
      "3\n",
      "9\n"
     ]
    }
   ],
   "source": [
    "#prime no range\n",
    "def primerange(n):\n",
    "    \n",
    "    for j in range(n+n):\n",
    "            c=0\n",
    "            for i in range(1,n):\n",
    "                if j%i==0:\n",
    "                    c=c+1\n",
    "            if c==2:\n",
    "                print(j)\n",
    "    \n",
    "primerange(5)\n",
    "\n"
   ]
  },
  {
   "cell_type": "code",
   "execution_count": null,
   "metadata": {
    "scrolled": true
   },
   "outputs": [],
   "source": [
    "  \n",
    "            "
   ]
  },
  {
   "cell_type": "code",
   "execution_count": 25,
   "metadata": {},
   "outputs": [
    {
     "name": "stdout",
     "output_type": "stream",
     "text": [
      "2\n",
      "3\n",
      "5\n",
      "7\n"
     ]
    }
   ],
   "source": [
    "#prime range\n",
    "def primerange(n):\n",
    "    \n",
    "    for j in range(n):\n",
    "            c=0\n",
    "            for i in range(1,n):\n",
    "                if j%i==0:\n",
    "                    c=c+1\n",
    "            if c==2:\n",
    "                print(j)\n",
    "    \n",
    "primerange(9)\n",
    "\n"
   ]
  },
  {
   "cell_type": "code",
   "execution_count": 3,
   "metadata": {},
   "outputs": [
    {
     "name": "stdout",
     "output_type": "stream",
     "text": [
      "2\n",
      "1 44 2 14\n",
      "0 30\n",
      "2 42 8 23\n",
      "5 41\n"
     ]
    }
   ],
   "source": [
    "def defftime(sh,sm,eh,em):\n",
    "    tm=0\n",
    "    sm=sh*60+sm\n",
    "    em=eh*60+em\n",
    "    tm=em-sm\n",
    "    sh=tm//60\n",
    "    eh=tm%60\n",
    "    print(sh,eh)\n",
    "n=int(input())\n",
    "for i in range(0,n):\n",
    "    s=input()\n",
    "    s=s.split()\n",
    "    sh=int(s[0])\n",
    "    sm=int(s[1])\n",
    "    eh=int(s[2])\n",
    "    em=int(s[3])\n",
    "    defftime(sh,sm,eh,em)"
   ]
  },
  {
   "cell_type": "code",
   "execution_count": 12,
   "metadata": {},
   "outputs": [
    {
     "name": "stdout",
     "output_type": "stream",
     "text": [
      "aba\n",
      "4\n"
     ]
    }
   ],
   "source": [
    "#count char sum\n",
    "def charsum(st):\n",
    "    letters=['','a','b','c','d','e','f','g','h','i','j','k','l','m','n','o','p','q','r','s','t','u','v','w','x','y','z']\n",
    "    su=0\n",
    "    for i in st:\n",
    "        \n",
    "        for j in letters:\n",
    "            if i==j:\n",
    "                su=su+letters.index(i)\n",
    "    \n",
    "    print(su)   \n",
    "st=input()\n",
    "charsum(st)"
   ]
  },
  {
   "cell_type": "code",
   "execution_count": 5,
   "metadata": {},
   "outputs": [
    {
     "name": "stdout",
     "output_type": "stream",
     "text": [
      "5 3\n",
      "1 2 3 4 5\n",
      "1 3\n",
      "2\n",
      "2 4\n",
      "3\n",
      "2 5\n",
      "3\n"
     ]
    }
   ],
   "source": [
    "i=input().split()\n",
    "n=int(i[0])\n",
    "q=int(i[1])\n",
    "numbers=input().split()\n",
    "sum1=0\n",
    "len1=0\n",
    "for z in range(n):\n",
    "    numbers[z]=int(numbers[z])\n",
    "for j in range(q):\n",
    "    k=input().split()\n",
    "    e1=int(k[0])\n",
    "    e2=int(k[1])\n",
    "    if e2==len(numbers):\n",
    "        sum1=sum(numbers[e1:e2-1])\n",
    "        len1=len(numbers[e1:e2-1])\n",
    "    else:\n",
    "        sum1=sum(numbers[e1:e2])\n",
    "        len1=len(numbers[e1:e2])\n",
    "    print(sum1//len1)\n",
    "        \n",
    "    "
   ]
  },
  {
   "cell_type": "code",
   "execution_count": 22,
   "metadata": {},
   "outputs": [
    {
     "name": "stdout",
     "output_type": "stream",
     "text": [
      "ssd1\n",
      "0\n",
      "0\n"
     ]
    }
   ],
   "source": [
    "l=input()\n",
    "count=0\n",
    "count1=0\n",
    "count2=0\n",
    "for i in l:\n",
    "    if i==i.isdigit():\n",
    "        count=count+1\n",
    "    elif i==i.isalpha():\n",
    "        count1=count1+1\n",
    "    else:\n",
    "        count2=count2+1\n",
    "print(count)\n",
    "print(count1)"
   ]
  },
  {
   "cell_type": "code",
   "execution_count": 4,
   "metadata": {},
   "outputs": [
    {
     "name": "stdout",
     "output_type": "stream",
     "text": [
      "2\n",
      "6\n",
      "YES\n",
      "10\n",
      "NO\n"
     ]
    }
   ],
   "source": [
    "def perfect(n):\n",
    "    sums=0\n",
    "    for i in range(1,n):\n",
    "        if n%i==0:\n",
    "            sums=sums+i\n",
    "    if sums==n:\n",
    "        print(\"YES\")\n",
    "    else:\n",
    "        print(\"NO\")\n",
    "a=int(input())\n",
    "for j in range(a):\n",
    "    n=int(input())\n",
    "    perfect(n)"
   ]
  },
  {
   "cell_type": "code",
   "execution_count": 2,
   "metadata": {},
   "outputs": [
    {
     "data": {
      "text/plain": [
       "()"
      ]
     },
     "execution_count": 2,
     "metadata": {},
     "output_type": "execute_result"
    }
   ],
   "source": [
    "def highrem(n):\n",
    "    r=0\n",
    "    for i in range(1,n):\n",
    "        rem=n%i\n",
    "        if r>rem\n",
    "        "
   ]
  },
  {
   "cell_type": "code",
   "execution_count": 10,
   "metadata": {},
   "outputs": [
    {
     "name": "stdout",
     "output_type": "stream",
     "text": [
      "NO\n"
     ]
    }
   ],
   "source": [
    "def primeNo(n):\n",
    "    fc = 0\n",
    "    for k in range(1,n+1):\n",
    "        n = k\n",
    "        c = 0\n",
    "        for i in range(1,n+1):\n",
    "            if(n%i==0):\n",
    "                c=c+1\n",
    "        if(c==2):\n",
    "            fc = fc+1\n",
    "    if (fc==2):\n",
    "        print(\"YES\")\n",
    "    else:\n",
    "        print(\"NO\")\n",
    "\n",
    "primeNo(7)"
   ]
  },
  {
   "cell_type": "code",
   "execution_count": null,
   "metadata": {},
   "outputs": [],
   "source": []
  },
  {
   "cell_type": "code",
   "execution_count": null,
   "metadata": {},
   "outputs": [],
   "source": []
  }
 ],
 "metadata": {
  "kernelspec": {
   "display_name": "Python 3",
   "language": "python",
   "name": "python3"
  },
  "language_info": {
   "codemirror_mode": {
    "name": "ipython",
    "version": 3
   },
   "file_extension": ".py",
   "mimetype": "text/x-python",
   "name": "python",
   "nbconvert_exporter": "python",
   "pygments_lexer": "ipython3",
   "version": "3.7.3"
  }
 },
 "nbformat": 4,
 "nbformat_minor": 2
}
