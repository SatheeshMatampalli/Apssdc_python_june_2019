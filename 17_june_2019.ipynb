{
 "cells": [
  {
   "cell_type": "code",
   "execution_count": 2,
   "metadata": {},
   "outputs": [
    {
     "name": "stdout",
     "output_type": "stream",
     "text": [
      "2\n",
      "5\n",
      "3\n",
      "3\n",
      "2\n"
     ]
    }
   ],
   "source": [
    "def highrem(n): # 5\n",
    "    r = 0\n",
    "    for i in range(1,n):\n",
    "        rem = n%i #5%1=0,5%2=1,5%3=2,5%4=1\n",
    "        if rem>r:#1>0 2>1 1!>=2\n",
    "            r = rem #r=1 r=2\n",
    "            j = i #j=2 j=3\n",
    "    return j\n",
    "\n",
    "t = int(input())\n",
    "for i in range(t):\n",
    "    n = int(input())\n",
    "    print(highrem(n))"
   ]
  },
  {
   "cell_type": "markdown",
   "metadata": {},
   "source": []
  }
 ],
 "metadata": {
  "kernelspec": {
   "display_name": "Python 3",
   "language": "python",
   "name": "python3"
  },
  "language_info": {
   "codemirror_mode": {
    "name": "ipython",
    "version": 3
   },
   "file_extension": ".py",
   "mimetype": "text/x-python",
   "name": "python",
   "nbconvert_exporter": "python",
   "pygments_lexer": "ipython3",
   "version": "3.7.3"
  }
 },
 "nbformat": 4,
 "nbformat_minor": 2
}
